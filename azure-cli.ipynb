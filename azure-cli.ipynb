{
 "cells": [
  {
   "cell_type": "markdown",
   "metadata": {
    "pycharm": {
     "name": "#%% md\n"
    }
   },
   "source": [
    "# Install 💻💻"
   ]
  },
  {
   "cell_type": "code",
   "execution_count": 1,
   "metadata": {
    "scrolled": true,
    "pycharm": {
     "name": "#%%\n"
    }
   },
   "outputs": [
    {
     "name": "stdout",
     "output_type": "stream",
     "text": [
      "Collecting azure-storage-blob\r\n",
      "  Downloading azure_storage_blob-12.12.0-py3-none-any.whl (366 kB)\r\n",
      "     |████████████████████████████████| 366 kB 2.0 MB/s            \r\n",
      "\u001B[?25hRequirement already satisfied: cryptography>=2.1.4 in ./venv/lib/python3.9/site-packages (from azure-storage-blob) (37.0.4)\r\n",
      "Requirement already satisfied: azure-core<2.0.0,>=1.23.1 in ./venv/lib/python3.9/site-packages (from azure-storage-blob) (1.24.2)\r\n",
      "Requirement already satisfied: msrest>=0.6.21 in ./venv/lib/python3.9/site-packages (from azure-storage-blob) (0.7.1)\r\n",
      "Requirement already satisfied: six>=1.11.0 in ./venv/lib/python3.9/site-packages (from azure-core<2.0.0,>=1.23.1->azure-storage-blob) (1.16.0)\r\n",
      "Requirement already satisfied: typing-extensions>=4.0.1 in ./venv/lib/python3.9/site-packages (from azure-core<2.0.0,>=1.23.1->azure-storage-blob) (4.3.0)\r\n",
      "Requirement already satisfied: requests>=2.18.4 in ./venv/lib/python3.9/site-packages (from azure-core<2.0.0,>=1.23.1->azure-storage-blob) (2.28.1)\r\n",
      "Requirement already satisfied: cffi>=1.12 in ./venv/lib/python3.9/site-packages (from cryptography>=2.1.4->azure-storage-blob) (1.15.1)\r\n",
      "Requirement already satisfied: requests-oauthlib>=0.5.0 in ./venv/lib/python3.9/site-packages (from msrest>=0.6.21->azure-storage-blob) (1.3.1)\r\n",
      "Requirement already satisfied: certifi>=2017.4.17 in ./venv/lib/python3.9/site-packages (from msrest>=0.6.21->azure-storage-blob) (2022.6.15)\r\n",
      "Requirement already satisfied: isodate>=0.6.0 in ./venv/lib/python3.9/site-packages (from msrest>=0.6.21->azure-storage-blob) (0.6.1)\r\n",
      "Requirement already satisfied: pycparser in ./venv/lib/python3.9/site-packages (from cffi>=1.12->cryptography>=2.1.4->azure-storage-blob) (2.21)\r\n",
      "Requirement already satisfied: idna<4,>=2.5 in ./venv/lib/python3.9/site-packages (from requests>=2.18.4->azure-core<2.0.0,>=1.23.1->azure-storage-blob) (3.3)\r\n",
      "Requirement already satisfied: urllib3<1.27,>=1.21.1 in ./venv/lib/python3.9/site-packages (from requests>=2.18.4->azure-core<2.0.0,>=1.23.1->azure-storage-blob) (1.26.9)\r\n",
      "Requirement already satisfied: charset-normalizer<3,>=2 in ./venv/lib/python3.9/site-packages (from requests>=2.18.4->azure-core<2.0.0,>=1.23.1->azure-storage-blob) (2.1.0)\r\n",
      "Requirement already satisfied: oauthlib>=3.0.0 in ./venv/lib/python3.9/site-packages (from requests-oauthlib>=0.5.0->msrest>=0.6.21->azure-storage-blob) (3.2.0)\r\n",
      "Installing collected packages: azure-storage-blob\r\n",
      "Successfully installed azure-storage-blob-12.12.0\r\n",
      "\u001B[33mWARNING: You are using pip version 21.3.1; however, version 22.1.2 is available.\r\n",
      "You should consider upgrading via the '/Users/fabienbarrios/Desktop/Azure/venv/bin/python -m pip install --upgrade pip' command.\u001B[0m\r\n"
     ]
    }
   ],
   "source": [
    "!pip install azure-storage-blob"
   ]
  },
  {
   "cell_type": "code",
   "execution_count": 2,
   "metadata": {
    "pycharm": {
     "name": "#%%\n"
    }
   },
   "outputs": [
    {
     "name": "stdout",
     "output_type": "stream",
     "text": [
      "Collecting azure-cosmos\r\n",
      "  Downloading azure_cosmos-4.3.0-py3-none-any.whl (215 kB)\r\n",
      "     |████████████████████████████████| 215 kB 1.8 MB/s            \r\n",
      "\u001B[?25hRequirement already satisfied: azure-core<2.0.0,>=1.23.0 in ./venv/lib/python3.9/site-packages (from azure-cosmos) (1.24.2)\r\n",
      "Requirement already satisfied: six>=1.11.0 in ./venv/lib/python3.9/site-packages (from azure-core<2.0.0,>=1.23.0->azure-cosmos) (1.16.0)\r\n",
      "Requirement already satisfied: typing-extensions>=4.0.1 in ./venv/lib/python3.9/site-packages (from azure-core<2.0.0,>=1.23.0->azure-cosmos) (4.3.0)\r\n",
      "Requirement already satisfied: requests>=2.18.4 in ./venv/lib/python3.9/site-packages (from azure-core<2.0.0,>=1.23.0->azure-cosmos) (2.28.1)\r\n",
      "Requirement already satisfied: urllib3<1.27,>=1.21.1 in ./venv/lib/python3.9/site-packages (from requests>=2.18.4->azure-core<2.0.0,>=1.23.0->azure-cosmos) (1.26.9)\r\n",
      "Requirement already satisfied: idna<4,>=2.5 in ./venv/lib/python3.9/site-packages (from requests>=2.18.4->azure-core<2.0.0,>=1.23.0->azure-cosmos) (3.3)\r\n",
      "Requirement already satisfied: charset-normalizer<3,>=2 in ./venv/lib/python3.9/site-packages (from requests>=2.18.4->azure-core<2.0.0,>=1.23.0->azure-cosmos) (2.1.0)\r\n",
      "Requirement already satisfied: certifi>=2017.4.17 in ./venv/lib/python3.9/site-packages (from requests>=2.18.4->azure-core<2.0.0,>=1.23.0->azure-cosmos) (2022.6.15)\r\n",
      "Installing collected packages: azure-cosmos\r\n",
      "Successfully installed azure-cosmos-4.3.0\r\n",
      "\u001B[33mWARNING: You are using pip version 21.3.1; however, version 22.1.2 is available.\r\n",
      "You should consider upgrading via the '/Users/fabienbarrios/Desktop/Azure/venv/bin/python -m pip install --upgrade pip' command.\u001B[0m\r\n"
     ]
    }
   ],
   "source": [
    "!pip install azure-cosmos"
   ]
  },
  {
   "cell_type": "code",
   "execution_count": 3,
   "metadata": {
    "pycharm": {
     "name": "#%%\n"
    }
   },
   "outputs": [
    {
     "name": "stdout",
     "output_type": "stream",
     "text": [
      "Collecting azure-datalake-store\r\n",
      "  Downloading azure_datalake_store-0.0.52-py2.py3-none-any.whl (61 kB)\r\n",
      "     |████████████████████████████████| 61 kB 960 kB/s             \r\n",
      "\u001B[?25hRequirement already satisfied: adal>=0.4.2 in ./venv/lib/python3.9/site-packages (from azure-datalake-store) (1.2.7)\r\n",
      "Requirement already satisfied: requests>=2.20.0 in ./venv/lib/python3.9/site-packages (from azure-datalake-store) (2.28.1)\r\n",
      "Requirement already satisfied: cffi in ./venv/lib/python3.9/site-packages (from azure-datalake-store) (1.15.1)\r\n",
      "Requirement already satisfied: PyJWT<3,>=1.0.0 in ./venv/lib/python3.9/site-packages (from adal>=0.4.2->azure-datalake-store) (2.4.0)\r\n",
      "Requirement already satisfied: cryptography>=1.1.0 in ./venv/lib/python3.9/site-packages (from adal>=0.4.2->azure-datalake-store) (37.0.4)\r\n",
      "Requirement already satisfied: python-dateutil<3,>=2.1.0 in ./venv/lib/python3.9/site-packages (from adal>=0.4.2->azure-datalake-store) (2.8.2)\r\n",
      "Requirement already satisfied: certifi>=2017.4.17 in ./venv/lib/python3.9/site-packages (from requests>=2.20.0->azure-datalake-store) (2022.6.15)\r\n",
      "Requirement already satisfied: charset-normalizer<3,>=2 in ./venv/lib/python3.9/site-packages (from requests>=2.20.0->azure-datalake-store) (2.1.0)\r\n",
      "Requirement already satisfied: urllib3<1.27,>=1.21.1 in ./venv/lib/python3.9/site-packages (from requests>=2.20.0->azure-datalake-store) (1.26.9)\r\n",
      "Requirement already satisfied: idna<4,>=2.5 in ./venv/lib/python3.9/site-packages (from requests>=2.20.0->azure-datalake-store) (3.3)\r\n",
      "Requirement already satisfied: pycparser in ./venv/lib/python3.9/site-packages (from cffi->azure-datalake-store) (2.21)\r\n",
      "Requirement already satisfied: six>=1.5 in ./venv/lib/python3.9/site-packages (from python-dateutil<3,>=2.1.0->adal>=0.4.2->azure-datalake-store) (1.16.0)\r\n",
      "Installing collected packages: azure-datalake-store\r\n",
      "Successfully installed azure-datalake-store-0.0.52\r\n",
      "\u001B[33mWARNING: You are using pip version 21.3.1; however, version 22.1.2 is available.\r\n",
      "You should consider upgrading via the '/Users/fabienbarrios/Desktop/Azure/venv/bin/python -m pip install --upgrade pip' command.\u001B[0m\r\n"
     ]
    }
   ],
   "source": [
    "!pip install azure-datalake-store"
   ]
  },
  {
   "cell_type": "markdown",
   "metadata": {
    "pycharm": {
     "name": "#%% md\n"
    }
   },
   "source": [
    "# Imports 🔧🔧"
   ]
  },
  {
   "cell_type": "code",
   "execution_count": null,
   "outputs": [],
   "source": [],
   "metadata": {
    "collapsed": false,
    "pycharm": {
     "name": "#%%\n"
    }
   }
  },
  {
   "cell_type": "code",
   "execution_count": 5,
   "metadata": {
    "pycharm": {
     "name": "#%%\n"
    }
   },
   "outputs": [],
   "source": [
    "import os, uuid\n",
    "from azure.storage.blob import BlobServiceClient, BlobClient, ContainerClient, __version__\n",
    "from azure.cosmos import cosmos_client, exceptions\n",
    "from azure.cosmos.partition_key import PartitionKey #  script Python perso où j'indique mes credentials Azure (à vs de créer le votre)"
   ]
  },
  {
   "cell_type": "code",
   "execution_count": 6,
   "metadata": {
    "pycharm": {
     "name": "#%%\n"
    }
   },
   "outputs": [
    {
     "ename": "NameError",
     "evalue": "name 'config' is not defined",
     "output_type": "error",
     "traceback": [
      "\u001B[0;31m---------------------------------------------------------------------------\u001B[0m",
      "\u001B[0;31mNameError\u001B[0m                                 Traceback (most recent call last)",
      "Input \u001B[0;32mIn [6]\u001B[0m, in \u001B[0;36m<cell line: 1>\u001B[0;34m()\u001B[0m\n\u001B[0;32m----> 1\u001B[0m cosmosdb_uri \u001B[38;5;241m=\u001B[39m \u001B[43mconfig\u001B[49m\u001B[38;5;241m.\u001B[39msettings[\u001B[38;5;124m'\u001B[39m\u001B[38;5;124mcosmosdb_uri\u001B[39m\u001B[38;5;124m'\u001B[39m]\n\u001B[1;32m      2\u001B[0m cosmosdb_primary_key \u001B[38;5;241m=\u001B[39m config\u001B[38;5;241m.\u001B[39msettings[\u001B[38;5;124m'\u001B[39m\u001B[38;5;124mcosmosdb_primary_key\u001B[39m\u001B[38;5;124m'\u001B[39m]\n\u001B[1;32m      3\u001B[0m cosmosdb_database_id \u001B[38;5;241m=\u001B[39m config\u001B[38;5;241m.\u001B[39msettings[\u001B[38;5;124m'\u001B[39m\u001B[38;5;124mcosmosdb_database_id\u001B[39m\u001B[38;5;124m'\u001B[39m]\n",
      "\u001B[0;31mNameError\u001B[0m: name 'config' is not defined"
     ]
    }
   ],
   "source": [
    "cosmosdb_uri = config.settings['cosmosdb_uri']\n",
    "cosmosdb_primary_key = config.settings['cosmosdb_primary_key']\n",
    "cosmosdb_database_id = config.settings['cosmosdb_database_id']\n",
    "cosmosdb_container_id = config.settings['cosmosdb_container_id']"
   ]
  },
  {
   "cell_type": "markdown",
   "metadata": {
    "pycharm": {
     "name": "#%% md\n"
    }
   },
   "source": [
    "# Se connecter à Azure 🔑 ? "
   ]
  },
  {
   "cell_type": "markdown",
   "metadata": {
    "pycharm": {
     "name": "#%% md\n"
    }
   },
   "source": [
    "* Après avoir installé le [client az](https://docs.microsoft.com/fr-fr/cli/azure/), vérifier sa version et se connecter ? "
   ]
  },
  {
   "cell_type": "code",
   "execution_count": 9,
   "metadata": {
    "pycharm": {
     "name": "#%%\n"
    }
   },
   "outputs": [
    {
     "name": "stdout",
     "output_type": "stream",
     "text": [
      "{\r\n",
      "  \"azure-cli\": \"2.38.0\",\r\n",
      "  \"azure-cli-core\": \"2.38.0\",\r\n",
      "  \"azure-cli-telemetry\": \"1.0.6\",\r\n",
      "  \"extensions\": {}\r\n",
      "}\r\n",
      "{\u001B[37m\u001B[39;49;00m\r\n",
      "\u001B[37m  \u001B[39;49;00m\u001B[94m\"azure-cli\"\u001B[39;49;00m:\u001B[37m \u001B[39;49;00m\u001B[33m\"2.38.0\"\u001B[39;49;00m,\u001B[37m\u001B[39;49;00m\r\n",
      "\u001B[37m  \u001B[39;49;00m\u001B[94m\"azure-cli-core\"\u001B[39;49;00m:\u001B[37m \u001B[39;49;00m\u001B[33m\"2.38.0\"\u001B[39;49;00m,\u001B[37m\u001B[39;49;00m\r\n",
      "\u001B[37m  \u001B[39;49;00m\u001B[94m\"azure-cli-telemetry\"\u001B[39;49;00m:\u001B[37m \u001B[39;49;00m\u001B[33m\"1.0.6\"\u001B[39;49;00m,\u001B[37m\u001B[39;49;00m\r\n",
      "\u001B[37m  \u001B[39;49;00m\u001B[94m\"extensions\"\u001B[39;49;00m:\u001B[37m \u001B[39;49;00m{}\u001B[37m\u001B[39;49;00m\r\n",
      "}\u001B[37m\u001B[39;49;00m\r\n",
      "Azure-cli    Azure-cli-core    Azure-cli-telemetry\r\n",
      "-----------  ----------------  ---------------------\r\n",
      "2.38.0       2.38.0            1.0.6\r\n"
     ]
    }
   ],
   "source": [
    "!az version\n",
    "!az version --output jsonc\n",
    "!az version --output table\n",
    "# S : 2.xx"
   ]
  },
  {
   "cell_type": "code",
   "execution_count": 10,
   "metadata": {
    "pycharm": {
     "name": "#%%\n"
    }
   },
   "outputs": [
    {
     "name": "stdout",
     "output_type": "stream",
     "text": [
      "\u001B[93mA web browser has been opened at https://login.microsoftonline.com/organizations/oauth2/v2.0/authorize. Please continue the login in the web browser. If no web browser is available or if the web browser fails to open, use device code flow with `az login --use-device-code`.\u001B[0m\r\n",
      "[\r\n",
      "  {\r\n",
      "    \"cloudName\": \"AzureCloud\",\r\n",
      "    \"homeTenantId\": \"c371d4f5-b34f-4b06-9e66-517fed904220\",\r\n",
      "    \"id\": \"fdc2db14-4f80-4cb7-ba6c-c410ef691d4f\",\r\n",
      "    \"isDefault\": true,\r\n",
      "    \"managedByTenants\": [],\r\n",
      "    \"name\": \"Azure for Students\",\r\n",
      "    \"state\": \"Enabled\",\r\n",
      "    \"tenantId\": \"c371d4f5-b34f-4b06-9e66-517fed904220\",\r\n",
      "    \"user\": {\r\n",
      "      \"name\": \"fbarrios@myges.fr\",\r\n",
      "      \"type\": \"user\"\r\n",
      "    }\r\n",
      "  }\r\n",
      "]\r\n"
     ]
    }
   ],
   "source": [
    "!az login"
   ]
  },
  {
   "cell_type": "markdown",
   "metadata": {
    "pycharm": {
     "name": "#%% md\n"
    }
   },
   "source": [
    "* Q : Vérifier son compte et les locations prises en charge par mon abonnement ? "
   ]
  },
  {
   "cell_type": "code",
   "execution_count": 11,
   "metadata": {
    "pycharm": {
     "name": "#%%\n"
    }
   },
   "outputs": [],
   "source": [
    "# !az account show\n",
    "# !az account show -o jsonc\n",
    "# !az account list-locations\n",
    "# !az account list-locations -o jsonc\n",
    "# az account list-locations -o yaml\n",
    "# az account list-locations -o tsv\n",
    "#\n",
    "# !az account list-locations -o table | grep France\n",
    "# !az account list-locations --query \"[].{Region:name}\" --out table\n",
    "# S : l'option --query permet de spécifier une Qry sur le JSON ; le langage est jmespath\n",
    "# https://jmespath.org/"
   ]
  },
  {
   "cell_type": "markdown",
   "metadata": {
    "pycharm": {
     "name": "#%% md\n"
    }
   },
   "source": [
    "* Utiliser le [Cloud Shell](https://docs.microsoft.com/fr-fr/azure/cloud-shell/using-cloud-shell-editor)"
   ]
  },
  {
   "cell_type": "code",
   "execution_count": null,
   "metadata": {
    "pycharm": {
     "name": "#%%\n"
    }
   },
   "outputs": [],
   "source": [
    "# Q : Ouvrir l'éditeur intégré (pr créer et modifier facilement des fichiers de config)   \n",
    "code .\n",
    "ls\n",
    "python\n",
    "pip\n",
    "git"
   ]
  },
  {
   "cell_type": "markdown",
   "metadata": {
    "pycharm": {
     "name": "#%% md\n"
    }
   },
   "source": [
    "# Ressource Group ? "
   ]
  },
  {
   "cell_type": "markdown",
   "metadata": {
    "pycharm": {
     "name": "#%% md\n"
    }
   },
   "source": [
    "<center><img src=\"./azure-rg.png\"></center>\n",
    "<center><img src=\"./azure-rg-lock.png\" style=\"width:800px;height:300px;\"></center>"
   ]
  },
  {
   "cell_type": "markdown",
   "metadata": {
    "pycharm": {
     "name": "#%% md\n"
    }
   },
   "source": [
    "* Q : Cmnt créer un groupe de ressources avec l'[interface](https://docs.microsoft.com/fr-fr/azure/azure-resource-manager/management/manage-resource-groups-portal#what-is-a-resource-group) et la [az-cli](https://docs.microsoft.com/fr-fr/azure/azure-resource-manager/management/manage-resource-groups-cli#create-resource-groups) ? "
   ]
  },
  {
   "cell_type": "code",
   "execution_count": 12,
   "metadata": {
    "pycharm": {
     "name": "#%%\n"
    }
   },
   "outputs": [
    {
     "name": "stdout",
     "output_type": "stream",
     "text": [
      "{\r\n",
      "  \"id\": \"/subscriptions/fdc2db14-4f80-4cb7-ba6c-c410ef691d4f/resourceGroups/gr-forma-fondamnt\",\r\n",
      "  \"location\": \"francecentral\",\r\n",
      "  \"managedBy\": null,\r\n",
      "  \"name\": \"gr-forma-fondamnt\",\r\n",
      "  \"properties\": {\r\n",
      "    \"provisioningState\": \"Succeeded\"\r\n",
      "  },\r\n",
      "  \"tags\": null,\r\n",
      "  \"type\": \"Microsoft.Resources/resourceGroups\"\r\n",
      "}\r\n"
     ]
    }
   ],
   "source": [
    "!az group create --name gr-forma-fondamnt --location francecentral\n",
    "# S : Vérifier que vs avez \"Succeeded\"  =>  \"properties\": { \"provisioningState\": \"Succeeded\" }"
   ]
  },
  {
   "cell_type": "code",
   "execution_count": 13,
   "metadata": {
    "pycharm": {
     "name": "#%%\n"
    }
   },
   "outputs": [
    {
     "name": "stdout",
     "output_type": "stream",
     "text": [
      "{\r\n",
      "  \"id\": \"/subscriptions/fdc2db14-4f80-4cb7-ba6c-c410ef691d4f/resourceGroups/gr-forma-fondamnt\",\r\n",
      "  \"location\": \"francecentral\",\r\n",
      "  \"managedBy\": null,\r\n",
      "  \"name\": \"gr-forma-fondamnt\",\r\n",
      "  \"properties\": {\r\n",
      "    \"provisioningState\": \"Succeeded\"\r\n",
      "  },\r\n",
      "  \"tags\": null,\r\n",
      "  \"type\": \"Microsoft.Resources/resourceGroups\"\r\n",
      "}\r\n"
     ]
    }
   ],
   "source": [
    "!az group show --name gr-forma-fondamnt"
   ]
  },
  {
   "cell_type": "code",
   "execution_count": 14,
   "metadata": {
    "pycharm": {
     "name": "#%%\n"
    }
   },
   "outputs": [
    {
     "name": "stdout",
     "output_type": "stream",
     "text": [
      "Name               Location       Status\r\n",
      "-----------------  -------------  ---------\r\n",
      "gr-forma-fondamnt  francecentral  Succeeded\r\n",
      "gr-ia-poc          eastus         Succeeded\r\n"
     ]
    }
   ],
   "source": [
    "# Q : Cmnt afficher les groupes de ressources crées ? \n",
    "!az group list -o table"
   ]
  },
  {
   "cell_type": "markdown",
   "metadata": {
    "pycharm": {
     "name": "#%% md\n"
    }
   },
   "source": [
    "* Q : Cmnt mettre en place un verrou avec l'[interface](https://docs.microsoft.com/fr-fr/azure/azure-resource-manager/management/lock-resources?tabs=json#configure-locks) et la [az-cli](https://docs.microsoft.com/fr-fr/azure/azure-resource-manager/management/lock-resources?tabs=json#azure-cli) (pr empêcher la supp/modif inattentionnel du groupe de ressources) ? "
   ]
  },
  {
   "cell_type": "code",
   "execution_count": 15,
   "metadata": {
    "pycharm": {
     "name": "#%%\n"
    }
   },
   "outputs": [
    {
     "name": "stdout",
     "output_type": "stream",
     "text": [
      "{\r\n",
      "  \"id\": \"/subscriptions/fdc2db14-4f80-4cb7-ba6c-c410ef691d4f/resourceGroups/gr-forma-fondamnt/providers/Microsoft.Authorization/locks/lockGroup\",\r\n",
      "  \"level\": \"CanNotDelete\",\r\n",
      "  \"name\": \"lockGroup\",\r\n",
      "  \"notes\": null,\r\n",
      "  \"owners\": null,\r\n",
      "  \"resourceGroup\": \"gr-forma-fondamnt\",\r\n",
      "  \"type\": \"Microsoft.Authorization/locks\"\r\n",
      "}\r\n"
     ]
    }
   ],
   "source": [
    "!az lock create -n lockGroup --lock-type CanNotDelete -g gr-forma-fondamnt"
   ]
  },
  {
   "cell_type": "markdown",
   "metadata": {
    "pycharm": {
     "name": "#%% md\n"
    }
   },
   "source": [
    "* Q : Obtenir tous les verrous d’un groupe de ressources ? "
   ]
  },
  {
   "cell_type": "code",
   "execution_count": 16,
   "metadata": {
    "pycharm": {
     "name": "#%%\n"
    }
   },
   "outputs": [
    {
     "name": "stdout",
     "output_type": "stream",
     "text": [
      "Level         Name       ResourceGroup\r\n",
      "------------  ---------  -----------------\r\n",
      "CanNotDelete  lockGroup  gr-forma-fondamnt\r\n"
     ]
    }
   ],
   "source": [
    "!az lock list --resource-group gr-forma-fondamnt -o table "
   ]
  },
  {
   "cell_type": "markdown",
   "metadata": {
    "pycharm": {
     "name": "#%% md\n"
    }
   },
   "source": [
    "* Q : Cmnt supprimer un groupe de ressources avec l'[interface]((https://docs.microsoft.com/fr-fr/azure/azure-resource-manager/management/delete-resource-group?tabs=azure-portal#delete-resource-group)) et [az-cli](https://docs.microsoft.com/fr-fr/azure/azure-resource-manager/management/delete-resource-group?tabs=azure-cli#delete-resource-group)  ? => Impossible parce qu'il faut faire sauter le verrou avant ! "
   ]
  },
  {
   "cell_type": "code",
   "execution_count": 13,
   "metadata": {
    "pycharm": {
     "name": "#%%\n"
    }
   },
   "outputs": [
    {
     "name": "stderr",
     "output_type": "stream",
     "text": [
      "ERROR: (ScopeLocked) The scope '/subscriptions/14c96ffb-9d7c-4aca-b872-adf1f19b250f/resourcegroups/gr-forma-fondamnt' cannot perform delete operation because following scope(s) are locked: '/subscriptions/14c96ffb-9d7c-4aca-b872-adf1f19b250f/resourceGroups/gr-forma-fondamnt'. Please remove the lock and try again.\n"
     ]
    }
   ],
   "source": [
    "!az group delete -n gr-forma-fondamnt --no-wait --yes "
   ]
  },
  {
   "cell_type": "markdown",
   "metadata": {
    "pycharm": {
     "name": "#%% md\n"
    }
   },
   "source": [
    "* Q : Cmnt supp un verrou ? => 2 étapes sont nécessaires : 1) On réccupère l'`id` du verrou et 2) on supp le verrou"
   ]
  },
  {
   "cell_type": "code",
   "execution_count": 17,
   "metadata": {
    "pycharm": {
     "name": "#%%\n"
    }
   },
   "outputs": [
    {
     "name": "stdout",
     "output_type": "stream",
     "text": [
      "/subscriptions/fdc2db14-4f80-4cb7-ba6c-c410ef691d4f/resourceGroups/gr-forma-fondamnt/providers/Microsoft.Authorization/locks/lockGroup\r\n"
     ]
    }
   ],
   "source": [
    "# 1) On réccupère d'id du verrou\n",
    "!az lock show --name lockGroup --resource-group gr-forma-fondamnt  --output tsv --query id\n",
    "# S : /subscriptions/14c96ffb-9d7c-4aca-b872-adf1f19b250f/resourceGroups/gr-forma-fondamnt/providers/Microsoft.Authorization/locks/lockGroup"
   ]
  },
  {
   "cell_type": "code",
   "execution_count": 18,
   "metadata": {
    "pycharm": {
     "name": "#%%\n"
    }
   },
   "outputs": [
    {
     "name": "stdout",
     "output_type": "stream",
     "text": [
      "[]\r\n"
     ]
    }
   ],
   "source": [
    "# 2) On supp le verrou\n",
    "!az lock delete  --ids /subscriptions/14c96ffb-9d7c-4aca-b872-adf1f19b250f/resourceGroups/gr-forma-fondamnt/providers/Microsoft.Authorization/locks/lockGroup\n",
    "# On vérifiie qu'il n'y a plus de vrrou\n",
    "!az lock list --resource-group gr-forma-fondamnt \n"
   ]
  },
  {
   "cell_type": "markdown",
   "metadata": {
    "pycharm": {
     "name": "#%% md\n"
    }
   },
   "source": [
    "# Storage Account ? "
   ]
  },
  {
   "cell_type": "markdown",
   "metadata": {
    "pycharm": {
     "name": "#%% md\n"
    }
   },
   "source": [
    "<center><img src=\"azure-storage.png\"style=\"width:800px;height:300px;\"></center>"
   ]
  },
  {
   "cell_type": "markdown",
   "metadata": {
    "pycharm": {
     "name": "#%% md\n"
    }
   },
   "source": [
    "* **TP 1 : Concevoir une infra de stockage adéquate aux besoins de l’entreprise** avec l'[interface](https://docs.microsoft.com/fr-fr/azure/storage/common/storage-account-create?toc=%2Fazure%2Fstorage%2Fblobs%2Ftoc.json&tabs=azure-portal#create-a-storage-account-1) et [az-cli](https://docs.microsoft.com/fr-fr/azure/storage/common/storage-account-create?toc=%2Fazure%2Fstorage%2Fblobs%2Ftoc.json&tabs=azure-cli#create-a-storage-account-1)\n",
    "    - Vous êtes Dév Azure au profit d’un Site Web de surf sur plages où les utilisateurs chargent et partagent des photos et des vidéos pour se décider de la meilleure plage (pour surfer) : météo, nombre de surfers, … \n",
    "    - Donc : \n",
    "        -\tLe site doit gérer des pics inattendus\n",
    "        -\tLe chargement des vidéos doit être rapide ! \n",
    "        -\tLe contenu obsolète doit être supprimé  \n",
    "        -\tdata stockées dans USA Ouest, \n",
    "        -\tgéo-redondant pour effectuer la réplication sur différents data center à travers le monde, \n",
    "        -\taccessible uniquement par le biais de https \n",
    "        -\tfacturés sur l’abonnement du service commercial ?\n"
   ]
  },
  {
   "cell_type": "markdown",
   "metadata": {
    "pycharm": {
     "name": "#%% md\n"
    }
   },
   "source": [
    "* **TP 2 : Connecter l’Explorateur Stockage Azure à un compte de stockage** ([sandbox](https://docs.microsoft.com/fr-fr/learn/modules/upload-download-and-manage-data-with-azure-storage-explorer/3-exercise-connect-storage-account))"
   ]
  },
  {
   "cell_type": "markdown",
   "metadata": {
    "pycharm": {
     "name": "#%% md\n"
    }
   },
   "source": [
    "* **TP 3 : \"`CRUD`\" sur un storage account** avec le [portail](https://docs.microsoft.com/en-us/azure/storage/blobs/storage-quickstart-blobs-portal), [az-cli](https://docs.microsoft.com/en-us/azure/storage/blobs/storage-quickstart-blobs-cli) et [Python](https://docs.microsoft.com/en-us/azure/storage/blobs/storage-quickstart-blobs-python?tabs=environment-variable-windows) :\n",
    "    - Charger (un et plusieurs files) et Lister le contenu d'un contenair\n",
    "    - Télécharger (un et plusieurs files d'une façon synchrone et asynchrone)\n",
    "    - Renommer (un et plusieurs files)\n",
    "    - Déplacer les files d'un conteneur vers un autre\n",
    "    - Calculer la taille d'un contenair ? Pour vous aider [az-cli](https://github.com/Azure-Samples/azure-cli-samples/blob/master/storage/calculate-container-size/calculate-container-size.sh)\n",
    "    - Supprimer (un et plusieurs files)\n",
    "    - Après avoir créee plusieurs contenairs qui commencent par un même préfix, coder un script `shell` `az-cli` qui permet d'automatiser la suppression de ces contenairs ? Pour vous aider [az-cli](https://github.com/Azure-Samples/azure-cli-samples/blob/master/storage/delete-containers-by-prefix/delete-containers-by-prefix.sh)"
   ]
  },
  {
   "cell_type": "markdown",
   "metadata": {
    "pycharm": {
     "name": "#%% md\n"
    }
   },
   "source": [
    "<center><img src=\"azure-storage1.png\"style=\"width:800px;height:300px;\"></center>"
   ]
  },
  {
   "cell_type": "markdown",
   "metadata": {
    "pycharm": {
     "name": "#%% md\n"
    }
   },
   "source": [
    "* **Correc**\n",
    "    * Pour rappel : sur Azure vous pouvez bénéficier d'un compte de stockage gratuit et valable 12 mois\n",
    "        - 5 Go d'objet blob de blocs chaud, localement redondant (LRS) \n",
    "        - 5 Go de Stockage de fichiers, LRS\n",
    "        - 10 Go de stockage et de récupération d'archive, LRS/GRS, plus de 100 lectures"
   ]
  },
  {
   "cell_type": "markdown",
   "metadata": {
    "pycharm": {
     "name": "#%% md\n"
    }
   },
   "source": [
    "* Q : Créer un compte de stockage avec le portail voir pour les paramètres le document [TP_Correc-Créer un compte de stockage en utilisant le portail-WebAppSurf.pdf](https://1drv.ms/b/s!AmJGbSlW18YGsstdAOOZLduTnSCfbA?e=7s9GYe) et [az-cli-ttes les options](https://docs.microsoft.com/fr-fr/cli/azure/storage/account?view=azure-cli-latest#az-storage-account-create)"
   ]
  },
  {
   "cell_type": "code",
   "execution_count": 19,
   "metadata": {
    "pycharm": {
     "name": "#%%\n"
    }
   },
   "outputs": [
    {
     "name": "stdout",
     "output_type": "stream",
     "text": [
      "\u001B[93mResource provider 'Microsoft.Storage' used by this operation is not registered. We are registering for you.\u001B[0m\r\n",
      "\u001B[93mRegistration succeeded.\u001B[0m\r\n",
      "\u001B[91m(StorageAccountAlreadyTaken) The storage account named storage is already taken.\r\n",
      "Code: StorageAccountAlreadyTaken\r\n",
      "Message: The storage account named storage is already taken.\u001B[0m\r\n"
     ]
    }
   ],
   "source": [
    "!az storage account create \\\n",
    "  --name storage \\\n",
    "  --resource-group gr-forma-fondamnt \\\n",
    "  --location francecentral \\\n",
    "  --sku Standard_LRS \\\n",
    "  --kind StorageV2 \\\n",
    "  --min-tls-version TLS1_2 \\\n",
    "  --access-tier Hot       "
   ]
  },
  {
   "cell_type": "markdown",
   "metadata": {
    "pycharm": {
     "name": "#%% md\n"
    }
   },
   "source": [
    "* Q : Exporter le compte de stockage à partir d'un template avec le [portail](https://docs.microsoft.com/fr-fr/azure/azure-resource-manager/templates/export-template-portal#export-template-from-a-resource-group) et [az-cli](https://docs.microsoft.com/fr-fr/azure/azure-resource-manager/templates/export-template-cli#export-template-from-a-resource-group)"
   ]
  },
  {
   "cell_type": "code",
   "execution_count": 20,
   "metadata": {
    "pycharm": {
     "name": "#%%\n"
    }
   },
   "outputs": [
    {
     "name": "stdout",
     "output_type": "stream",
     "text": [
      "\u001B[K{- Starting ..\r\n",
      "  \"$schema\": \"https://schema.management.azure.com/schemas/2019-04-01/deploymentTemplate.json#\",\r\n",
      "  \"contentVersion\": \"1.0.0.0\",\r\n",
      "  \"parameters\": {},\r\n",
      "  \"resources\": [],\r\n",
      "  \"variables\": {}\r\n",
      "}\r\n"
     ]
    }
   ],
   "source": [
    "!az group export --name gr-forma-fondamnt"
   ]
  },
  {
   "cell_type": "markdown",
   "metadata": {
    "pycharm": {
     "name": "#%% md\n"
    }
   },
   "source": [
    "* Q : Déployer le compte de stockage à partir d'un template avec [az-cli](https://docs.microsoft.com/en-us/azure/azure-resource-manager/management/manage-resources-cli#deploy-a-template)"
   ]
  },
  {
   "cell_type": "code",
   "execution_count": 21,
   "metadata": {
    "pycharm": {
     "name": "#%%\n"
    }
   },
   "outputs": [
    {
     "name": "stdout",
     "output_type": "stream",
     "text": [
      "\u001B[K{/ Running ..\r\u001B[K - Starting ..\u001B[K | Running ..\u001B[K - Running ..\u001B[K | Running ..\u001B[K - Running ..\u001B[K | Running ..\u001B[K - Running ..\u001B[K | Running ..\u001B[K - Running ..\u001B[K | Running ..\u001B[K - Running ..\u001B[K | Running ..\u001B[K - Running ..\u001B[K | Running ..\u001B[K - Running ..\u001B[K | Running ..\u001B[K - Running ..\u001B[K | Running ..\u001B[K - Running ..\u001B[K | Running ..\u001B[K - Running ..\u001B[K | Running ..\u001B[K - Running ..\u001B[K | Running ..\u001B[K - Running ..\u001B[K | Running ..\u001B[K - Running ..\u001B[K | Running ..\u001B[K - Running ..\u001B[K | Running ..\u001B[K - Running ..\u001B[K | Running ..\u001B[K - Running ..\u001B[K | Running ..\u001B[K - Running ..\u001B[K | Running ..\u001B[K - Running ..\u001B[K | Running ..\u001B[K - Running ..\u001B[K | Running ..\u001B[K - Running ..\u001B[K | Running ..\u001B[K - Running ..\u001B[K | Running ..\u001B[K - Running ..\u001B[K | Running ..\u001B[K - Running ..\u001B[K | Running ..\u001B[K - Running ..\u001B[K | Running ..\u001B[K - Running ..\u001B[K | Running ..\u001B[K - Running ..\u001B[K | Running ..\u001B[K - Running ..\u001B[K | Running ..\u001B[K - Running ..\u001B[K | Running ..\u001B[K - Running ..\u001B[K | Running ..\u001B[K - Finished ..\r\n",
      "  \"id\": \"/subscriptions/fdc2db14-4f80-4cb7-ba6c-c410ef691d4f/resourceGroups/gr-forma-fondamnt/providers/Microsoft.Resources/deployments/azuredeploy\",\r\n",
      "  \"location\": null,\r\n",
      "  \"name\": \"azuredeploy\",\r\n",
      "  \"properties\": {\r\n",
      "    \"correlationId\": \"98ee1968-cf12-4fd9-9519-0a821abe40e2\",\r\n",
      "    \"debugSetting\": null,\r\n",
      "    \"dependencies\": [],\r\n",
      "    \"duration\": \"PT31.645816S\",\r\n",
      "    \"error\": null,\r\n",
      "    \"mode\": \"Incremental\",\r\n",
      "    \"onErrorDeployment\": null,\r\n",
      "    \"outputResources\": [\r\n",
      "      {\r\n",
      "        \"id\": \"/subscriptions/fdc2db14-4f80-4cb7-ba6c-c410ef691d4f/resourceGroups/gr-forma-fondamnt/providers/Microsoft.Storage/storageAccounts/storevxhfmy7qt2dho\",\r\n",
      "        \"resourceGroup\": \"gr-forma-fondamnt\"\r\n",
      "      }\r\n",
      "    ],\r\n",
      "    \"outputs\": {\r\n",
      "      \"storageAccountId\": {\r\n",
      "        \"type\": \"String\",\r\n",
      "        \"value\": \"/subscriptions/fdc2db14-4f80-4cb7-ba6c-c410ef691d4f/resourceGroups/gr-forma-fondamnt/providers/Microsoft.Storage/storageAccounts/storevxhfmy7qt2dho\"\r\n",
      "      },\r\n",
      "      \"storageAccountName\": {\r\n",
      "        \"type\": \"String\",\r\n",
      "        \"value\": \"storevxhfmy7qt2dho\"\r\n",
      "      }\r\n",
      "    },\r\n",
      "    \"parameters\": {\r\n",
      "      \"location\": {\r\n",
      "        \"type\": \"String\",\r\n",
      "        \"value\": \"francecentral\"\r\n",
      "      },\r\n",
      "      \"storageAccountName\": {\r\n",
      "        \"type\": \"String\",\r\n",
      "        \"value\": \"storevxhfmy7qt2dho\"\r\n",
      "      },\r\n",
      "      \"storageAccountType\": {\r\n",
      "        \"type\": \"String\",\r\n",
      "        \"value\": \"Standard_LRS\"\r\n",
      "      }\r\n",
      "    },\r\n",
      "    \"parametersLink\": null,\r\n",
      "    \"providers\": [\r\n",
      "      {\r\n",
      "        \"id\": null,\r\n",
      "        \"namespace\": \"Microsoft.Storage\",\r\n",
      "        \"providerAuthorizationConsentState\": null,\r\n",
      "        \"registrationPolicy\": null,\r\n",
      "        \"registrationState\": null,\r\n",
      "        \"resourceTypes\": [\r\n",
      "          {\r\n",
      "            \"aliases\": null,\r\n",
      "            \"apiProfiles\": null,\r\n",
      "            \"apiVersions\": null,\r\n",
      "            \"capabilities\": null,\r\n",
      "            \"defaultApiVersion\": null,\r\n",
      "            \"locationMappings\": null,\r\n",
      "            \"locations\": [\r\n",
      "              \"francecentral\"\r\n",
      "            ],\r\n",
      "            \"properties\": null,\r\n",
      "            \"resourceType\": \"storageAccounts\",\r\n",
      "            \"zoneMappings\": null\r\n",
      "          }\r\n",
      "        ]\r\n",
      "      }\r\n",
      "    ],\r\n",
      "    \"provisioningState\": \"Succeeded\",\r\n",
      "    \"templateHash\": \"4523590120167697900\",\r\n",
      "    \"templateLink\": {\r\n",
      "      \"contentVersion\": \"1.0.0.0\",\r\n",
      "      \"id\": null,\r\n",
      "      \"queryString\": null,\r\n",
      "      \"relativePath\": null,\r\n",
      "      \"uri\": \"https://raw.githubusercontent.com/Azure/azure-quickstart-templates/master/quickstarts/microsoft.storage/storage-account-create/azuredeploy.json\"\r\n",
      "    },\r\n",
      "    \"timestamp\": \"2022-07-07T10:35:20.140690+00:00\",\r\n",
      "    \"validatedResources\": null\r\n",
      "  },\r\n",
      "  \"resourceGroup\": \"gr-forma-fondamnt\",\r\n",
      "  \"tags\": null,\r\n",
      "  \"type\": \"Microsoft.Resources/deployments\"\r\n",
      "}\r\n"
     ]
    }
   ],
   "source": [
    "# Exemple générique\n",
    "!az deployment group create --resource-group gr-forma-fondamnt --template-uri \"https://raw.githubusercontent.com/Azure/azure-quickstart-templates/master/quickstarts/microsoft.storage/storage-account-create/azuredeploy.json\""
   ]
  },
  {
   "cell_type": "code",
   "execution_count": 22,
   "metadata": {
    "pycharm": {
     "name": "#%%\n"
    }
   },
   "outputs": [
    {
     "name": "stdout",
     "output_type": "stream",
     "text": [
      "\u001B[91mUnable to retrieve url C:/Users/bejao/OneDrive/Azure/1-storageAccount/template-storage-webappsurf/template-storage-account.json\u001B[0m\r\n"
     ]
    }
   ],
   "source": [
    "# Notre storage account\n",
    "!az deployment group create --resource-group gr-forma-fondamnt --template-uri \"C:/Users/bejao/OneDrive/Azure/1-storageAccount/template-storage-webappsurf/template-storage-account.json\""
   ]
  },
  {
   "cell_type": "markdown",
   "metadata": {
    "pycharm": {
     "name": "#%% md\n"
    }
   },
   "source": [
    "* Q : Upload, download, and list blobs with the [portail](https://docs.microsoft.com/en-us/azure/storage/blobs/storage-quickstart-blobs-portal), [az-cli](https://docs.microsoft.com/en-us/azure/storage/blobs/storage-quickstart-blobs-cli) et [Python](https://docs.microsoft.com/en-us/azure/storage/blobs/storage-quickstart-blobs-python?tabs=environment-variable-windows)"
   ]
  },
  {
   "cell_type": "code",
   "execution_count": 23,
   "metadata": {
    "pycharm": {
     "name": "#%%\n"
    }
   },
   "outputs": [
    {
     "name": "stdout",
     "output_type": "stream",
     "text": [
      "\u001B[91m(ResourceNotFound) The Resource 'Microsoft.Storage/storageAccounts/storagewebappsurf' under resource group 'gr-forma-fondamnt' was not found. For more details please go to https://aka.ms/ARMResourceNotFoundFix\r\n",
      "Code: ResourceNotFound\r\n",
      "Message: The Resource 'Microsoft.Storage/storageAccounts/storagewebappsurf' under resource group 'gr-forma-fondamnt' was not found. For more details please go to https://aka.ms/ARMResourceNotFoundFix\u001B[0m\r\n"
     ]
    }
   ],
   "source": [
    "# 1 : Réccupérer la clé d'accès au compte de stockage\n",
    "!az storage account keys list --resource-group gr-forma-fondamnt --account-name storagewebappsurf --query \"[0].value\" --output tsv\n",
    "# K2g+bCyk1DgZTU4j4vSQQaXtNvx1mlQllCBsPpcEbzJ8OU/chfl1YLq+MftytpoN/27F9osV68bR+ASt9/1EFQ=="
   ]
  },
  {
   "cell_type": "code",
   "execution_count": 24,
   "metadata": {
    "pycharm": {
     "name": "#%%\n"
    }
   },
   "outputs": [
    {
     "name": "stdout",
     "output_type": "stream",
     "text": [
      "\u001B[91m<urllib3.connection.HTTPSConnection object at 0x10dd43dc0>: Failed to establish a new connection: [Errno 8] nodename nor servname provided, or not known\u001B[0m\r\n"
     ]
    }
   ],
   "source": [
    "# 2 : Créer un contenair\n",
    "!az storage container create --name contenair-blob --account-name storagewebappsurf --account-key K2g+bCyk1DgZTU4j4vSQQaXtNvx1mlQllCBsPpcEbzJ8OU/chfl1YLq+MftytpoN/27F9osV68bR+ASt9/1EFQ=="
   ]
  },
  {
   "cell_type": "code",
   "execution_count": 25,
   "metadata": {
    "pycharm": {
     "name": "#%%\n"
    }
   },
   "outputs": [
    {
     "name": "stdout",
     "output_type": "stream",
     "text": [
      "\u001B[93m\r\n",
      "There are no credentials provided in your command and environment, we will query for account key for your storage account.\r\n",
      "It is recommended to provide --connection-string, --account-key or --sas-token in your command as credentials.\r\n",
      "\r\n",
      "You also can add `--auth-mode login` in your command to use Azure Active Directory (Azure AD) for authorization if your login account is assigned required RBAC roles.\r\n",
      "For more information about RBAC roles in storage, visit https://docs.microsoft.com/azure/storage/common/storage-auth-aad-rbac-cli.\r\n",
      "\r\n",
      "In addition, setting the corresponding environment variables can avoid inputting credentials in your command. Please use --help to get more information about environment variable usage.\u001B[0m\r\n",
      "\u001B[93m\r\n",
      "Skip querying account key due to failure: Storage account 'storagewebappsurf' not found.\u001B[0m\r\n",
      "\u001B[91m<urllib3.connection.HTTPSConnection object at 0x1085272e0>: Failed to establish a new connection: [Errno 8] nodename nor servname provided, or not known\u001B[0m\r\n"
     ]
    }
   ],
   "source": [
    "# Vérifier les contenairs crées\n",
    "!az storage container list --account-name storagewebappsurf -o table"
   ]
  },
  {
   "cell_type": "code",
   "execution_count": 26,
   "metadata": {
    "pycharm": {
     "name": "#%%\n"
    }
   },
   "outputs": [
    {
     "name": "stdout",
     "output_type": "stream",
     "text": [
      "\u001B[93m\r\n",
      "There are no credentials provided in your command and environment, we will query for account key for your storage account.\r\n",
      "It is recommended to provide --connection-string, --account-key or --sas-token in your command as credentials.\r\n",
      "\r\n",
      "You also can add `--auth-mode login` in your command to use Azure Active Directory (Azure AD) for authorization if your login account is assigned required RBAC roles.\r\n",
      "For more information about RBAC roles in storage, visit https://docs.microsoft.com/azure/storage/common/storage-auth-aad-rbac-cli.\r\n",
      "\r\n",
      "In addition, setting the corresponding environment variables can avoid inputting credentials in your command. Please use --help to get more information about environment variable usage.\u001B[0m\r\n",
      "\u001B[93m\r\n",
      "Skip querying account key due to failure: Storage account 'storagewebappsurf' not found.\u001B[0m\r\n",
      "\u001B[91m[Errno 2] No such file or directory: 'C:/Users/bejao/OneDrive/data/CognitiveServices/ComputerVision/smart-cam-supermarket-surveillance/store_cam1.jpg'\u001B[0m\r\n",
      "Please check the file path.\r\n"
     ]
    }
   ],
   "source": [
    "# 3 Upload image\n",
    "!az storage blob upload \\\n",
    "    --account-name storagewebappsurf \\\n",
    "    --container-name contenair-blob \\\n",
    "    --file \"C:/Users/bejao/OneDrive/data/CognitiveServices/ComputerVision/smart-cam-supermarket-surveillance/store_cam1.jpg\" \\\n",
    "    --name store_cam1.jpg"
   ]
  },
  {
   "cell_type": "code",
   "execution_count": 27,
   "metadata": {
    "pycharm": {
     "name": "#%%\n"
    }
   },
   "outputs": [
    {
     "name": "stdout",
     "output_type": "stream",
     "text": [
      "\u001B[93m\r\n",
      "There are no credentials provided in your command and environment, we will query for account key for your storage account.\r\n",
      "It is recommended to provide --connection-string, --account-key or --sas-token in your command as credentials.\r\n",
      "\r\n",
      "You also can add `--auth-mode login` in your command to use Azure Active Directory (Azure AD) for authorization if your login account is assigned required RBAC roles.\r\n",
      "For more information about RBAC roles in storage, visit https://docs.microsoft.com/azure/storage/common/storage-auth-aad-rbac-cli.\r\n",
      "\r\n",
      "In addition, setting the corresponding environment variables can avoid inputting credentials in your command. Please use --help to get more information about environment variable usage.\u001B[0m\r\n",
      "\u001B[93m\r\n",
      "Skip querying account key due to failure: Storage account 'storagewebappsurf' not found.\u001B[0m\r\n",
      "\u001B[91m<urllib3.connection.HTTPSConnection object at 0x111b585e0>: Failed to establish a new connection: [Errno 8] nodename nor servname provided, or not known\u001B[0m\r\n"
     ]
    }
   ],
   "source": [
    "# List the blobs in a container\n",
    "!az storage blob list \\\n",
    "    --account-name storagewebappsurf \\\n",
    "    --container-name contenair-blob \\\n",
    "    --output table \\"
   ]
  },
  {
   "cell_type": "code",
   "execution_count": 28,
   "metadata": {
    "pycharm": {
     "name": "#%%\n"
    }
   },
   "outputs": [
    {
     "name": "stdout",
     "output_type": "stream",
     "text": [
      "Azure Blob Storage v12.12.0\n"
     ]
    }
   ],
   "source": [
    "# Manip avec Python\n",
    "try:\n",
    "    print(\"Azure Blob Storage v\" + __version__)\n",
    "\n",
    "    # Quick start code goes here\n",
    "\n",
    "except Exception as ex:\n",
    "    print('Exception:')\n",
    "    print(ex)"
   ]
  },
  {
   "cell_type": "code",
   "execution_count": 29,
   "metadata": {
    "pycharm": {
     "name": "#%%\n"
    }
   },
   "outputs": [
    {
     "ename": "SyntaxError",
     "evalue": "invalid syntax (3546445987.py, line 5)",
     "output_type": "error",
     "traceback": [
      "\u001B[0;36m  Input \u001B[0;32mIn [29]\u001B[0;36m\u001B[0m\n\u001B[0;31m    setx AZURE_STORAGE_CONNECTION_STRING \"DefaultEndpointsProtocol=https;AccountName=storagewebappsurf;AccountKey=K2g+bCyk1DgZTU4j4vSQQaXtNvx1mlQllCBsPpcEbzJ8OU/chfl1YLq+MftytpoN/27F9osV68bR+ASt9/1EFQ==;EndpointSuffix=core.windows.net\"\u001B[0m\n\u001B[0m         ^\u001B[0m\n\u001B[0;31mSyntaxError\u001B[0m\u001B[0;31m:\u001B[0m invalid syntax\n"
     ]
    }
   ],
   "source": [
    "# StorageAccountName = storagewebappsurf\n",
    "# Key = K2g+bCyk1DgZTU4j4vSQQaXtNvx1mlQllCBsPpcEbzJ8OU/chfl1YLq+MftytpoN/27F9osV68bR+ASt9/1EFQ==\n",
    "# Connectionstring = DefaultEndpointsProtocol=https;AccountName=storagewebappsurf;AccountKey=K2g+bCyk1DgZTU4j4vSQQaXtNvx1mlQllCBsPpcEbzJ8OU/chfl1YLq+MftytpoN/27F9osV68bR+ASt9/1EFQ==;EndpointSuffix=core.windows.net\n",
    "# Taper dans un cmd la commande suivate : \n",
    "setx AZURE_STORAGE_CONNECTION_STRING \"DefaultEndpointsProtocol=https;AccountName=storagewebappsurf;AccountKey=K2g+bCyk1DgZTU4j4vSQQaXtNvx1mlQllCBsPpcEbzJ8OU/chfl1YLq+MftytpoN/27F9osV68bR+ASt9/1EFQ==;EndpointSuffix=core.windows.net\""
   ]
  },
  {
   "cell_type": "code",
   "execution_count": null,
   "metadata": {
    "pycharm": {
     "name": "#%%\n"
    }
   },
   "outputs": [],
   "source": [
    "# Créer un contenair\n",
    "# Create the BlobServiceClient object which will be used to create a container client\n",
    "blob_service_client = BlobServiceClient.from_connection_string(\"DefaultEndpointsProtocol=https;AccountName=storagewebappsurf;AccountKey=K2g+bCyk1DgZTU4j4vSQQaXtNvx1mlQllCBsPpcEbzJ8OU/chfl1YLq+MftytpoN/27F9osV68bR+ASt9/1EFQ==;EndpointSuffix=core.windows.net\")\n",
    "\n",
    "# Create a unique name for the container\n",
    "container_name = str(uuid.uuid4())\n",
    "\n",
    "# Create the container\n",
    "container_client = blob_service_client.create_container(container_name)"
   ]
  },
  {
   "cell_type": "code",
   "execution_count": null,
   "metadata": {
    "pycharm": {
     "name": "#%%\n"
    }
   },
   "outputs": [],
   "source": [
    "# Create a local directory \n",
    "local_path = \"C:/Users/bejao/OneDrive/data/CognitiveServices/ComputerVision/smart-cam-supermarket-surveillance/store_cam1.jpg\"\n",
    "\n",
    "# Create a file in the local data directory to upload and download\n",
    "# local_file_name = str(uuid.uuid4()) + \".txt\"\n",
    "# upload_file_path = os.path.join(local_path, local_file_name)\n",
    "\n",
    "# Write text to the file\n",
    "# file = open(local_path, 'w')\n",
    "# file.write(\"store_cam1.jpg\")\n",
    "# file.close()\n",
    "\n",
    "# Create a blob client using the local file name as the name for the blob\n",
    "blob_client = blob_service_client.get_blob_client(container=container_name, blob=local_path)\n",
    "\n",
    "print(\"\\nUploading to Azure Storage as blob:\\n\\t\" + local_path)\n",
    "\n",
    "# Upload the created file\n",
    "with open(local_path, \"rb\") as data:\n",
    "    blob_client.upload_blob(data)"
   ]
  },
  {
   "cell_type": "code",
   "execution_count": null,
   "metadata": {
    "pycharm": {
     "name": "#%%\n"
    }
   },
   "outputs": [],
   "source": [
    "# liste des objets blob d’un conteneur\n",
    "print(\"\\nListing blobs...\")\n",
    "\n",
    "# List the blobs in the container\n",
    "blob_list = container_client.list_blobs()\n",
    "for blob in blob_list:\n",
    "    print(\"\\t\" + blob.name)"
   ]
  },
  {
   "cell_type": "code",
   "execution_count": null,
   "metadata": {
    "pycharm": {
     "name": "#%%\n"
    }
   },
   "outputs": [],
   "source": [
    "# Download the blob to a local file\n",
    "# Add 'DOWNLOAD' before the .txt extension so you can see both files in the data directory\n",
    "download_file_path = os.path.join(local_path, str.replace(local_path ,'.txt', 'DOWNLOAD.txt'))\n",
    "print(\"\\nDownloading blob to \\n\\t\" + download_file_path)\n",
    "\n",
    "with open(download_file_path, \"wb\") as download_file:\n",
    "    download_file.write(blob_client.download_blob().readall())"
   ]
  },
  {
   "cell_type": "markdown",
   "metadata": {
    "pycharm": {
     "name": "#%% md\n"
    }
   },
   "source": [
    "* Q : Déplacer le compte de stockage vers une autre région avec le [portail](https://docs.microsoft.com/fr-fr/azure/storage/common/storage-account-move?tabs=azure-portal)"
   ]
  },
  {
   "cell_type": "markdown",
   "metadata": {
    "pycharm": {
     "name": "#%% md\n"
    }
   },
   "source": [
    "* Q : Supp le compte de stockage"
   ]
  },
  {
   "cell_type": "code",
   "execution_count": null,
   "metadata": {
    "pycharm": {
     "name": "#%%\n"
    }
   },
   "outputs": [],
   "source": [
    "!az storage account delete --name <storage-account> --resource-group <resource-group>"
   ]
  },
  {
   "cell_type": "markdown",
   "metadata": {
    "pycharm": {
     "name": "#%% md\n"
    }
   },
   "source": [
    "# WebApp ? "
   ]
  },
  {
   "cell_type": "markdown",
   "metadata": {
    "pycharm": {
     "name": "#%% md\n"
    }
   },
   "source": [
    "<center><img src=\"azure-webapp.png\"style=\"width:800px;height:300px;\"></center>"
   ]
  },
  {
   "cell_type": "markdown",
   "metadata": {
    "pycharm": {
     "name": "#%% md\n"
    }
   },
   "source": [
    "* **TP : Déployer une [application web](https://challenge-48h.web.app/form.html) qui stocke et affiche des images à partir du Stockage Azure le tout en mettant en place une IA** : suivez ce [guide](https://docs.microsoft.com/fr-fr/azure/storage/blobs/storage-upload-process-images?tabs=javascript%2Cazure-cli)  \n",
    "    <br>\n",
    "* Pour vous aider, répondre progressivement aux questions suivantes :  \n",
    "    <br>\n",
    "    - **Déployer la [WebApp](https://github.com/Azure-Samples/msdocs-python-flask-webapp-quickstart) suivante sur Azure à partir d'un git local, de github, à partir de Docker, ... :**  \n",
    "    \n",
    "        - Q : Déployer la [WebApp](https://github.com/Azure-Samples/msdocs-python-flask-webapp-quickstart) suivante sur Azure à partir d'un **git local** avec le [portail](https://docs.microsoft.com/fr-fr/azure/app-service/quickstart-python?) et l'automatiser avec [az-cli](https://docs.microsoft.com/fr-fr/azure/app-service/quickstart-python?tabs=flask%2Cwindows%2Cazure-cli%2Cterminal-bash%2Cvscode-deploy%2Cdeploy-instructions-azportal%2Cdeploy-instructions-zip-azcli#2---create-a-web-app-in-azure)\n",
    "        - Q : Déployer la [WebApp](https://github.com/Azure-Samples/msdocs-python-flask-webapp-quickstart) suivante sur Azure à partir d'un github (sans déploiment continu) avec [az-cli](https://docs.microsoft.com/fr-fr/azure/app-service/scripts/cli-deploy-github?toc=/cli/azure/toc.json)\n",
    "        - Q : Déployer la [WebApp](https://github.com/Azure-Samples/msdocs-python-flask-webapp-quickstart) suivante sur Azure à partir d'un github **avec déploiment continu** avec [az-cli](https://docs.microsoft.com/fr-fr/azure/app-service/scripts/cli-continuous-deployment-github?toc=/cli/azure/toc.json)\n",
    "        - Q : Déployer la [WebApp](https://github.com/Azure-Samples/msdocs-python-flask-webapp-quickstart) suivante sur Azure à l'aide d'**une image Docker** avec [az-cli](https://docs.microsoft.com/fr-fr/azure/app-service/scripts/cli-linux-docker-aspnetcore?toc=/cli/azure/toc.json)\n",
    "        - Déployer la [WebApp](https://github.com/Azure-Samples/msdocs-python-flask-webapp-quickstart) suivante sur Azure dans un environnement de **préprod** avec [az-cli](https://docs.microsoft.com/fr-fr/azure/app-service/scripts/cli-deploy-staging-environment?toc=/cli/azure/toc.json)  \n",
    "    <br>\n",
    "    - **Connecter la [WebApp](https://github.com/Azure-Samples/msdocs-python-flask-webapp-quickstart) à une DB, à un compte de stockage, à CosmosDB :**  \n",
    "        - Connecter la [WebApp](https://github.com/Azure-Samples/msdocs-python-flask-webapp-quickstart) suivante à un compte de stockage avec [az-cli](https://docs.microsoft.com/fr-fr/azure/app-service/scripts/cli-connect-to-storage?toc=/cli/azure/toc.json) et Augmenter le code de la webapp en y incluant la connexion et le CRUD ?  \n",
    "        - Connecter la [WebApp](https://github.com/Azure-Samples/msdocs-python-flask-webapp-quickstart) suivante à une DB SQL avec [az-cli](https://docs.microsoft.com/fr-fr/azure/app-service/scripts/cli-connect-to-sql?toc=/cli/azure/toc.json) ? \n",
    "        - Connecter la [WebApp](https://github.com/Azure-Samples/msdocs-python-flask-webapp-quickstart) suivante à CosmosDB avec [az-cli](https://docs.microsoft.com/fr-fr/azure/app-service/scripts/cli-connect-to-documentdb?toc=/cli/azure/toc.json) ? \n",
    "        - Connecter la [WebApp](https://github.com/Azure-Samples/msdocs-python-flask-webapp-quickstart) suivante à un cache redis avec [az-cli](https://docs.microsoft.com/fr-fr/azure/app-service/scripts/cli-connect-to-redis?toc=/cli/azure/toc.json) ?  \n",
    "    <br>\n",
    "    - **Configurer la WebApp :**  \n",
    "        - Déployer la [WebApp](https://github.com/Azure-Samples/msdocs-python-flask-webapp-quickstart) suivante sur Azure avec un point de terminaison privé avec [az-cli](https://docs.microsoft.com/fr-fr/azure/app-service/scripts/cli-deploy-privateendpoint?toc=/cli/azure/toc.json)\n",
    "        - Personaliser le nom de domaine de la webapp avec le [portail](https://docs.microsoft.com/fr-fr/azure/app-service/app-service-web-tutorial-custom-domain?tabs=a%2Cazurecli#4-enable-the-mapping-in-your-app) et le [sécuriser](https://docs.microsoft.com/fr-fr/azure/app-service/configure-ssl-bindings?source=docs#secure-a-custom-domain) (Att, c'est payant) "
   ]
  },
  {
   "cell_type": "markdown",
   "metadata": {
    "pycharm": {
     "name": "#%% md\n"
    }
   },
   "source": [
    "<center><img src=\"azure-passionfroid.png\"style=\"width:900px;height:400px;\"></center>"
   ]
  },
  {
   "cell_type": "markdown",
   "metadata": {
    "pycharm": {
     "name": "#%% md\n"
    }
   },
   "source": [
    "* **Correc**"
   ]
  },
  {
   "cell_type": "markdown",
   "metadata": {
    "pycharm": {
     "name": "#%% md\n"
    }
   },
   "source": [
    "* Create an `appservice` plan (a machine) where your site will run"
   ]
  },
  {
   "cell_type": "code",
   "execution_count": null,
   "metadata": {
    "pycharm": {
     "name": "#%%\n"
    }
   },
   "outputs": [],
   "source": [
    "!az appservice plan create --name ASP-grformafondamnt-88fc --location francecentral --is-linux --sku F1 --resource-group gr-forma-fondamnt\n"
   ]
  },
  {
   "cell_type": "markdown",
   "metadata": {
    "pycharm": {
     "name": "#%% md\n"
    }
   },
   "source": [
    "* Create the web application"
   ]
  },
  {
   "cell_type": "code",
   "execution_count": null,
   "metadata": {
    "pycharm": {
     "name": "#%%\n"
    }
   },
   "outputs": [],
   "source": [
    "az webapp create --name webappsurf --plan ASP-grformafondamnt-88fc --runtime PYTHON|3.7 --resource-group gr-forma-fondamnt"
   ]
  },
  {
   "cell_type": "markdown",
   "metadata": {
    "pycharm": {
     "name": "#%% md\n"
    }
   },
   "source": [
    "Q : Automatiser "
   ]
  },
  {
   "cell_type": "code",
   "execution_count": null,
   "metadata": {
    "pycharm": {
     "name": "#%%\n"
    }
   },
   "outputs": [],
   "source": [
    "C:/Users/bejao/OneDrive/Azure/2-webapp/deployment-webapp.sh"
   ]
  },
  {
   "cell_type": "markdown",
   "metadata": {
    "pycharm": {
     "name": "#%% md\n"
    }
   },
   "source": [
    "# VM Linux ? "
   ]
  },
  {
   "cell_type": "markdown",
   "metadata": {
    "pycharm": {
     "name": "#%% md\n"
    }
   },
   "source": [
    "* **TP individuel :** \n",
    "\n",
    "    - Votre entreprise a réservé un stand dans un salon important consacré à Linux. Vous prévoyez une zone de démonstration contenant trois terminaux, chacun connecté à une VM Linux distincte. À la fin de chaque journée, vous souhaitez supprimer les VM et les recréer, afin qu’elles soient réinitialisées pour le lendemain matin. Créer les VM manuellement alors que vous êtes fatigué, constituerait une source d’erreurs potentielle. Vous voulez donc écrire un script (PowerShell, az-cli, bicep) pour automatiser le processus de création et de suppression des VM : déclaration de var, boucle for, …"
   ]
  },
  {
   "cell_type": "markdown",
   "metadata": {
    "pycharm": {
     "name": "#%% md\n"
    }
   },
   "source": [
    "* **TP Collectif :**  \n",
    "    <br>\n",
    "    - Créer un groupe de ressources\n",
    "    - Autoriser deux users à créer/gérer des VM (dans le groupe de ressources déjà crée)  \n",
    "    - **Le 1è user installera :**   \n",
    "    \n",
    "        -\tUne VM Linux Ubuntu 18.04 LTS (Standard D2s v3), sans redondance   \n",
    "        -\tS’y connectera avec `SSH`, `HTTP` et `HTTPS`   \n",
    "        -\tInstallera dessus `NGINX` with [Portal](https://docs.microsoft.com/fr-fr/azure/virtual-machines/linux/quick-create-portal), [CLI](https://docs.microsoft.com/fr-fr/azure/virtual-machines/linux/quick-create-cli)  \n",
    "    <br>    \n",
    "    - **Le 2è user installera :**   \n",
    "    \n",
    "        - Une VM Windows Server avec `RDP`, `SSH`, `HTTP` et `HTTPS`  \n",
    "        - S’y connectera avec `RDP`, `SSH`, `HTTP` et `HTTPS`  \n",
    "        - NB : pour que la VM soit accessible à distance, elle doit être crée avec une adresse ip publique, with [Portal](https://docs.microsoft.com/fr-fr/azure/virtual-machines/windows/quick-create-portal), [CLI](https://docs.microsoft.com/fr-fr/azure/virtual-machines/windows/quick-create-cli)  \n",
    "    <br>    \n",
    "    - Vous vous connectez/prendrez le contrôle de la VM à partir de votre machine  \n",
    "    - Vous vous accordez l’accès à la VM aux membres de votre groupe avec des droits différents  \n",
    "    - Mettre un verrou sur le groupe de ressources et cherchez à supp le groupe de ress, with [Portal](https://docs.microsoft.com/fr-fr/azure/azure-resource-manager/management/lock-resources?tabs=json#configure-locks), [CLI](https://docs.microsoft.com/fr-fr/azure/azure-resource-manager/management/manage-resource-groups-cli#lock-resource-groups)  \n",
    "    -  \n",
    "    - Faire sauter le verou,   \n",
    "    - Redimensionner la VM  \n",
    "    - Exporter le modèle de déploiement ARM : with [Portal](https://docs.microsoft.com/fr-fr/azure/azure-resource-manager/templates/export-template-portal#export-template-from-a-resource-group), [CLI](https://docs.microsoft.com/fr-fr/azure/azure-resource-manager/templates/export-template-cli#export-template-from-a-resource-group),   \n",
    "    - Supprimer le groupe de ress (pour arrêter la facturation) : with [Portal](https://docs.microsoft.com/fr-fr/azure/azure-resource-manager/management/delete-resource-group?tabs=azure-portal#delete-resource-group), [CLI](https://docs.microsoft.com/fr-fr/azure/azure-resource-manager/management/delete-resource-group?tabs=azure-cli#delete-resource-group)  \n",
    "    - Redéployer le modèle exporté  \n"
   ]
  },
  {
   "cell_type": "markdown",
   "metadata": {
    "pycharm": {
     "name": "#%% md\n"
    }
   },
   "source": [
    "# [CosmosDB](https://azure.microsoft.com/en-us/try/cosmosdb/) ? "
   ]
  },
  {
   "cell_type": "markdown",
   "metadata": {
    "pycharm": {
     "name": "#%% md\n"
    }
   },
   "source": [
    "<center><img src=\"./azure-cosmosdb.png\" \"></center>"
   ]
  },
  {
   "cell_type": "markdown",
   "metadata": {
    "pycharm": {
     "name": "#%% md\n"
    }
   },
   "source": [
    "* We'll create a `database` and `containers` with the Portal ([help1](https://docs.microsoft.com/fr-fr/azure/cosmos-db/sql/create-cosmosdb-resources-portal), [help2](https://www.sqlshack.com/querying-json-documents-in-azure-cosmos-db-using-the-sql-api/)), [az-cli](https://docs.microsoft.com/fr-fr/azure/cosmos-db/scripts/cli/sql/create), Python ([help1](https://docs.microsoft.com/fr-fr/azure/cosmos-db/sql/create-sql-api-python), [help2](https://docs.microsoft.com/en-us/python/api/overview/azure/cosmos-readme?view=azure-python#authenticate-the-client)), [Spark](https://docs.microsoft.com/fr-fr/azure/cosmos-db/sql/create-sql-api-spark), import data (_events that occurred on e-commerce website - e.g. a user viewing an item, adding it to their cart, or purchasing it_) and run some queries over it ? \n",
    "* We will [partition](https://docs.microsoft.com/azure/cosmos-db/partition-data) by `CartId`, which represents the individual cart of each user. This will give us an even distribution of throughput and storage in our container. \n",
    "* [guide de survie](https://1drv.ms/b/s!AmJGbSlW18YGs8spKHX4fbgd5gy8Ug?e=Yw9fOs)"
   ]
  },
  {
   "cell_type": "markdown",
   "metadata": {
    "pycharm": {
     "name": "#%% md\n"
    }
   },
   "source": [
    "<center><img src=\"./azure-cosmos-db.png\" style=\"width:800px;height:300px;\"></center>"
   ]
  },
  {
   "cell_type": "code",
   "execution_count": 15,
   "metadata": {
    "pycharm": {
     "name": "#%%\n"
    }
   },
   "outputs": [],
   "source": [
    "# from azure.cosmos import CosmosClient\n",
    "# from azure.cosmos.partition_key import PartitionKey\n",
    "# import config\n",
    "import json"
   ]
  },
  {
   "cell_type": "code",
   "execution_count": 27,
   "metadata": {
    "pycharm": {
     "name": "#%%\n"
    }
   },
   "outputs": [],
   "source": [
    "# Initialize the Cosmos client\n",
    "# client = CosmosClient(cosmosdb_uri, cosmosdb_primary_key)\n",
    "# print(\"Connextion success to\", type(client))"
   ]
  },
  {
   "cell_type": "code",
   "execution_count": 7,
   "metadata": {
    "pycharm": {
     "name": "#%%\n"
    }
   },
   "outputs": [
    {
     "name": "stdout",
     "output_type": "stream",
     "text": [
      "Database created or used <class 'azure.cosmos.database.DatabaseProxy'>\n"
     ]
    }
   ],
   "source": [
    "db = client.create_database_if_not_exists(cosmosdb_database_id)\n",
    "print('Database created or used', type(db))"
   ]
  },
  {
   "cell_type": "code",
   "execution_count": 30,
   "metadata": {
    "pycharm": {
     "name": "#%%\n"
    }
   },
   "outputs": [
    {
     "name": "stdout",
     "output_type": "stream",
     "text": [
      "<DatabaseProxy [dbs/SampleDB]>\n",
      "{\"id\": \"SampleDB\", \"_rid\": \"FP1RAA==\", \"_self\": \"dbs/FP1RAA==/\", \"_etag\": \"\\\"00004604-0000-0700-0000-624566170000\\\"\", \"_colls\": \"colls/\", \"_users\": \"users/\", \"_ts\": 1648715287}\n"
     ]
    }
   ],
   "source": [
    "# Get database propreties\n",
    "print(client.get_database_client(cosmosdb_database_id))\n",
    "properties = db.read()\n",
    "print(json.dumps(properties))"
   ]
  },
  {
   "cell_type": "code",
   "execution_count": 8,
   "metadata": {
    "pycharm": {
     "name": "#%%\n"
    }
   },
   "outputs": [
    {
     "name": "stdout",
     "output_type": "stream",
     "text": [
      "Container WebsiteData created <class 'azure.cosmos.container.ContainerProxy'>\n"
     ]
    }
   ],
   "source": [
    "# Les conteneurs sont une collection d’éléments (des documents JSON) qui peuvent avoir différents schémas\n",
    "# Using a good partition key improves the performance of database operations.\n",
    "container = db.create_container_if_not_exists(id='WebsiteData', partition_key=PartitionKey(path='/CartID'))\n",
    "print('Container WebsiteData created', type(container))"
   ]
  },
  {
   "cell_type": "markdown",
   "metadata": {
    "pycharm": {
     "name": "#%% md\n"
    }
   },
   "source": [
    "* Load [website_transactions.json](https://1drv.ms/u/s!AmJGbSlW18YGs8sqOV7HS6cPWsaVBQ?e=tZmnKQ) and insert into the container\n",
    "* Remarquez que chaque document de `website_transactions.json` comprend un champs `id` (obligatoire) "
   ]
  },
  {
   "cell_type": "code",
   "execution_count": 20,
   "metadata": {
    "pycharm": {
     "name": "#%%\n"
    }
   },
   "outputs": [],
   "source": [
    "with open('C:/Users/bejao/OneDrive/data/website_transactions.json') as f:\n",
    "    data = f.read()\n",
    "    data = json.loads(data)\n",
    "    \n",
    "for i in range(len(data)) : \n",
    "    container.create_item(data[i])"
   ]
  },
  {
   "cell_type": "markdown",
   "metadata": {
    "pycharm": {
     "name": "#%% md\n"
    }
   },
   "source": [
    "* Load [website_transactions.json](https://1drv.ms/u/s!AmJGbSlW18YGs8sqOV7HS6cPWsaVBQ?e=tZmnKQ) and insert into a new container `family`"
   ]
  },
  {
   "cell_type": "code",
   "execution_count": null,
   "metadata": {
    "pycharm": {
     "name": "#%%\n"
    }
   },
   "outputs": [],
   "source": [
    "# <create_container_if_not_exists>\n",
    "container_name = 'FamilyContainer'\n",
    "container = database.create_container_if_not_exists(\n",
    "    id=container_name, \n",
    "    partition_key=PartitionKey(path=\"/lastName\"),\n",
    "    offer_throughput=400\n",
    "\n",
    "for i in range(1, 10):\n",
    "    container.upsert_item({\n",
    "            'id': 'item{0}'.format(i),\n",
    "            'productName': 'Widget',\n",
    "            'productModel': 'Model {0}'.format(i)\n",
    "        }\n",
    "    )"
   ]
  },
  {
   "cell_type": "markdown",
   "metadata": {
    "pycharm": {
     "name": "#%% md\n"
    }
   },
   "source": [
    "The new database and container should show up under the **Data** section. Use the refresh icon after completing the previous cell. \n",
    "\n",
    "![Refresh Data resource tree to see newly created resources](https://cosmosnotebooksdata.blob.core.windows.net/notebookdata/refreshData.png)"
   ]
  },
  {
   "cell_type": "code",
   "execution_count": null,
   "metadata": {
    "pycharm": {
     "name": "#%%\n"
    }
   },
   "outputs": [],
   "source": [
    "# Query these items using the SQL query syntax\n",
    "\n",
    "query = \"SELECT c.Action, c.Price as ItemRevenue, c.Country, c.Item FROM WebsiteData AS c\"\n",
    "\n",
    "items = list(container.query_items(\n",
    "    query=query,\n",
    "    enable_cross_partition_query=True\n",
    "))\n",
    "\n",
    "request_charge = container.client_connection.last_response_headers['x-ms-request-charge']\n",
    "\n",
    "print('Query returned {0} items. Operation consumed {1} request units'.format(len(items), request_charge))"
   ]
  },
  {
   "cell_type": "code",
   "execution_count": 24,
   "metadata": {
    "pycharm": {
     "name": "#%%\n"
    }
   },
   "outputs": [
    {
     "data": {
      "text/plain": [
       "[{'Action': 'Viewed',\n",
       "  'ItemRevenue': 9,\n",
       "  'Country': 'Tunisia',\n",
       "  'Item': 'Black Tee'},\n",
       " {'Action': 'Viewed',\n",
       "  'ItemRevenue': 19.99,\n",
       "  'Country': 'Antigua and Barbuda',\n",
       "  'Item': 'Flannel Shirt'},\n",
       " {'Action': 'Added',\n",
       "  'ItemRevenue': 3.75,\n",
       "  'Country': 'Guinea-Bissau',\n",
       "  'Item': 'Socks'},\n",
       " {'Action': 'Viewed',\n",
       "  'ItemRevenue': 3.75,\n",
       "  'Country': 'Guinea-Bissau',\n",
       "  'Item': 'Socks'},\n",
       " {'Action': 'Viewed',\n",
       "  'ItemRevenue': 55,\n",
       "  'Country': 'Czech Republic',\n",
       "  'Item': 'Rainjacket'},\n",
       " {'Action': 'Viewed',\n",
       "  'ItemRevenue': 350,\n",
       "  'Country': 'Iceland',\n",
       "  'Item': 'Cosmos T-shirt'},\n",
       " {'Action': 'Added',\n",
       "  'ItemRevenue': 19.99,\n",
       "  'Country': 'Syrian Arab Republic',\n",
       "  'Item': 'Button-Up Shirt'}]"
      ]
     },
     "execution_count": 24,
     "metadata": {},
     "output_type": "execute_result"
    }
   ],
   "source": [
    "items"
   ]
  },
  {
   "cell_type": "code",
   "execution_count": 22,
   "metadata": {
    "pycharm": {
     "name": "#%%\n"
    }
   },
   "outputs": [
    {
     "ename": "SyntaxError",
     "evalue": "invalid syntax (Temp/ipykernel_6044/3214461879.py, line 3)",
     "output_type": "error",
     "traceback": [
      "\u001B[1;36m  File \u001B[1;32m\"C:\\Users\\bejao\\AppData\\Local\\Temp/ipykernel_6044/3214461879.py\"\u001B[1;36m, line \u001B[1;32m3\u001B[0m\n\u001B[1;33m    SELECT c.Action, c.Price as ItemRevenue, c.Country, c.Item FROM Website AS c\u001B[0m\n\u001B[1;37m           ^\u001B[0m\n\u001B[1;31mSyntaxError\u001B[0m\u001B[1;31m:\u001B[0m invalid syntax\n"
     ]
    }
   ],
   "source": [
    "# Run a query using the built-in Azure Cosmos notebook magic\n",
    "%%sql\n",
    "SELECT c.Action, c.Price as ItemRevenue, c.Country, c.Item FROM Website AS c"
   ]
  },
  {
   "cell_type": "code",
   "execution_count": null,
   "metadata": {
    "pycharm": {
     "name": "#%%\n"
    }
   },
   "outputs": [],
   "source": [
    "# Read items with full Python (key value lookups by partition key and id, aka point reads)\n",
    "for family in family_items_to_create:\n",
    "    item_response = container.read_item(item=family['id'], partition_key=family['lastName'])\n",
    "    request_charge = container.client_connection.last_response_headers['x-ms-request-charge']\n",
    "    print('Read item with id {0}. Operation consumed {1} request units'.format(item_response['id'], (request_charge)))"
   ]
  },
  {
   "cell_type": "code",
   "execution_count": null,
   "metadata": {
    "pycharm": {
     "name": "#%%\n"
    }
   },
   "outputs": [],
   "source": [
    "person = {\n",
    "    \"id\": \"1\",\n",
    "    \"category\": \"personal\",\n",
    "    \"name\": \"groceries\",\n",
    "    \"description\": \"Pick up apples and strawberries.\",\n",
    "    \"isComplete\": false\n",
    "}"
   ]
  },
  {
   "cell_type": "code",
   "execution_count": null,
   "metadata": {
    "pycharm": {
     "name": "#%%\n"
    }
   },
   "outputs": [],
   "source": [
    "# Delete \n",
    "# The SQL API in Cosmos DB does not support the SQL DELETE statement.\n",
    "# To delete items from a container, use ContainerProxy.delete_item. \n",
    "\n",
    "for item in container.query_items(\n",
    "        query='SELECT * FROM products p WHERE p.productModel = \"Model 2\"',\n",
    "        enable_cross_partition_query=True):\n",
    "    container.delete_item(item, partition_key='Widget')"
   ]
  },
  {
   "cell_type": "markdown",
   "metadata": {
    "pycharm": {
     "name": "#%% md\n"
    }
   },
   "source": [
    "# [Data Lake](https://azure.microsoft.com/en-us/solutions/data-lake/) ? "
   ]
  },
  {
   "cell_type": "markdown",
   "metadata": {
    "pycharm": {
     "name": "#%% md\n"
    }
   },
   "source": [
    "* Créer un datalake avec le [portal](https://docs.microsoft.com/fr-fr/azure/storage/blobs/create-data-lake-storage-account)\n",
    "* [TP](https://docs.microsoft.com/fr-fr/azure/storage/blobs/data-lake-storage-use-databricks-spark) : Data Lake, Spark, Databricks\n",
    "* [TP](https://docs.microsoft.com/fr-fr/azure/storage/blobs/data-lake-storage-tutorial-extract-transform-load-hive) : ETL Hive"
   ]
  },
  {
   "cell_type": "code",
   "execution_count": null,
   "metadata": {
    "pycharm": {
     "name": "#%%\n"
    }
   },
   "outputs": [],
   "source": [
    "import azure.datalake.store"
   ]
  },
  {
   "cell_type": "markdown",
   "metadata": {
    "pycharm": {
     "name": "#%% md\n"
    }
   },
   "source": []
  }
 ],
 "metadata": {
  "interpreter": {
   "hash": "da03a2949bd7f7e1e2f8a272eaea5cb5c8effd8622bbe3cc4e7f8a7d557202f6"
  },
  "kernelspec": {
   "display_name": "Python 3",
   "language": "python",
   "name": "python3"
  },
  "language_info": {
   "codemirror_mode": {
    "name": "ipython",
    "version": 3
   },
   "file_extension": ".py",
   "mimetype": "text/x-python",
   "name": "python",
   "nbconvert_exporter": "python",
   "pygments_lexer": "ipython3",
   "version": "3.8.8"
  }
 },
 "nbformat": 4,
 "nbformat_minor": 2
}